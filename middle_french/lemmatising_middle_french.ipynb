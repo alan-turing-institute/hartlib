{
 "cells": [
  {
   "cell_type": "code",
   "execution_count": 84,
   "metadata": {},
   "outputs": [],
   "source": [
    "# Basic variables and imports:\n",
    "\n",
    "import codecs, csv, os, time, re, io\n",
    "from os import listdir\n",
    "from os.path import isfile, join\n",
    "from  more_itertools import unique_everseen\n",
    "from collections import Counter\n",
    "from bs4 import BeautifulSoup\n",
    "\n",
    "\n",
    "# directories\n",
    "\n",
    "# change dir_in for where the new outputs are\n",
    "dir_in = os.path.abspath(os.path.join(os.path.dirname(os.getcwd()), \"..\",\"hartlib\",\"middle_french_lexicon\"))\n",
    "dir_letters = os.path.abspath(os.path.join(os.path.dirname(os.getcwd()), \"hartlib\", \"middle_french\",\"letters\"))\n",
    "dir_out = os.path.abspath(os.path.join(os.path.dirname(os.getcwd()), \"middle_french\",\"output\"))\n",
    "\n"
   ]
  },
  {
   "cell_type": "code",
   "execution_count": 85,
   "metadata": {},
   "outputs": [
    {
     "name": "stdout",
     "output_type": "stream",
     "text": [
      "/Users/hengchen/hartlib/middle_french_lexicon\n",
      "/Users/hengchen/git/hartlib/middle_french/letters\n",
      "/Users/hengchen/git/middle_french/output\n"
     ]
    }
   ],
   "source": [
    "print(dir_in)\n",
    "print(dir_letters)\n",
    "print(dir_out)"
   ]
  },
  {
   "cell_type": "code",
   "execution_count": 86,
   "metadata": {},
   "outputs": [],
   "source": [
    "liste_letters = os.listdir(dir_letters)\n",
    "#print(liste_letters)\n",
    "#lexicon = open(dir_in+\"/LGeRM-LexiqueMorphologique-MODE-1.0.0.xml\", encoding=\"ISO-8859-1\")\n",
    "lexicon = open(dir_in+\"/converted_text.txt\")\n",
    "\n",
    "#lexicon_readlines = lexicon.readlines()\n",
    "lexicon_read = lexicon.read()\n",
    "#print(lexicon_read)\n",
    "lexicon_soup = BeautifulSoup(lexicon_read,'lxml-xml')\n"
   ]
  },
  {
   "cell_type": "code",
   "execution_count": 87,
   "metadata": {},
   "outputs": [
    {
     "name": "stdout",
     "output_type": "stream",
     "text": [
      "None\n"
     ]
    }
   ],
   "source": [
    "print(lexicon_soup.sponsor)"
   ]
  },
  {
   "cell_type": "code",
   "execution_count": null,
   "metadata": {},
   "outputs": [],
   "source": []
  }
 ],
 "metadata": {
  "kernelspec": {
   "display_name": "Python 3",
   "language": "python",
   "name": "python3"
  },
  "language_info": {
   "codemirror_mode": {
    "name": "ipython",
    "version": 3
   },
   "file_extension": ".py",
   "mimetype": "text/x-python",
   "name": "python",
   "nbconvert_exporter": "python",
   "pygments_lexer": "ipython3",
   "version": "3.6.5"
  }
 },
 "nbformat": 4,
 "nbformat_minor": 2
}
