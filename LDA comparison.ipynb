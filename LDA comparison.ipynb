{
 "cells": [
  {
   "cell_type": "code",
   "execution_count": 3,
   "metadata": {},
   "outputs": [
    {
     "ename": "PermissionError",
     "evalue": "[Errno 13] Permission denied: '/Users/work'",
     "output_type": "error",
     "traceback": [
      "\u001b[0;31m---------------------------------------------------------------------------\u001b[0m",
      "\u001b[0;31mPermissionError\u001b[0m                           Traceback (most recent call last)",
      "\u001b[0;32m<ipython-input-3-c4db6b081db2>\u001b[0m in \u001b[0;36m<module>\u001b[0;34m()\u001b[0m\n\u001b[1;32m     18\u001b[0m \u001b[0;34m\u001b[0m\u001b[0m\n\u001b[1;32m     19\u001b[0m \u001b[0;32mif\u001b[0m \u001b[0;32mnot\u001b[0m \u001b[0mos\u001b[0m\u001b[0;34m.\u001b[0m\u001b[0mpath\u001b[0m\u001b[0;34m.\u001b[0m\u001b[0mexists\u001b[0m\u001b[0;34m(\u001b[0m\u001b[0mdir_TM_diff_results\u001b[0m\u001b[0;34m)\u001b[0m\u001b[0;34m:\u001b[0m\u001b[0;34m\u001b[0m\u001b[0m\n\u001b[0;32m---> 20\u001b[0;31m     \u001b[0mos\u001b[0m\u001b[0;34m.\u001b[0m\u001b[0mmakedirs\u001b[0m\u001b[0;34m(\u001b[0m\u001b[0mdir_TM_diff_results\u001b[0m\u001b[0;34m)\u001b[0m\u001b[0;34m\u001b[0m\u001b[0m\n\u001b[0m\u001b[1;32m     21\u001b[0m \u001b[0;34m\u001b[0m\u001b[0m\n\u001b[1;32m     22\u001b[0m \u001b[0;31m# these are the topics we are looking into\u001b[0m\u001b[0;34m\u001b[0m\u001b[0;34m\u001b[0m\u001b[0m\n",
      "\u001b[0;32m/usr/local/Cellar/python3/3.6.4_2/Frameworks/Python.framework/Versions/3.6/lib/python3.6/os.py\u001b[0m in \u001b[0;36mmakedirs\u001b[0;34m(name, mode, exist_ok)\u001b[0m\n\u001b[1;32m    208\u001b[0m     \u001b[0;32mif\u001b[0m \u001b[0mhead\u001b[0m \u001b[0;32mand\u001b[0m \u001b[0mtail\u001b[0m \u001b[0;32mand\u001b[0m \u001b[0;32mnot\u001b[0m \u001b[0mpath\u001b[0m\u001b[0;34m.\u001b[0m\u001b[0mexists\u001b[0m\u001b[0;34m(\u001b[0m\u001b[0mhead\u001b[0m\u001b[0;34m)\u001b[0m\u001b[0;34m:\u001b[0m\u001b[0;34m\u001b[0m\u001b[0m\n\u001b[1;32m    209\u001b[0m         \u001b[0;32mtry\u001b[0m\u001b[0;34m:\u001b[0m\u001b[0;34m\u001b[0m\u001b[0m\n\u001b[0;32m--> 210\u001b[0;31m             \u001b[0mmakedirs\u001b[0m\u001b[0;34m(\u001b[0m\u001b[0mhead\u001b[0m\u001b[0;34m,\u001b[0m \u001b[0mmode\u001b[0m\u001b[0;34m,\u001b[0m \u001b[0mexist_ok\u001b[0m\u001b[0;34m)\u001b[0m\u001b[0;34m\u001b[0m\u001b[0m\n\u001b[0m\u001b[1;32m    211\u001b[0m         \u001b[0;32mexcept\u001b[0m \u001b[0mFileExistsError\u001b[0m\u001b[0;34m:\u001b[0m\u001b[0;34m\u001b[0m\u001b[0m\n\u001b[1;32m    212\u001b[0m             \u001b[0;31m# Defeats race condition when another thread created the path\u001b[0m\u001b[0;34m\u001b[0m\u001b[0;34m\u001b[0m\u001b[0m\n",
      "\u001b[0;32m/usr/local/Cellar/python3/3.6.4_2/Frameworks/Python.framework/Versions/3.6/lib/python3.6/os.py\u001b[0m in \u001b[0;36mmakedirs\u001b[0;34m(name, mode, exist_ok)\u001b[0m\n\u001b[1;32m    208\u001b[0m     \u001b[0;32mif\u001b[0m \u001b[0mhead\u001b[0m \u001b[0;32mand\u001b[0m \u001b[0mtail\u001b[0m \u001b[0;32mand\u001b[0m \u001b[0;32mnot\u001b[0m \u001b[0mpath\u001b[0m\u001b[0;34m.\u001b[0m\u001b[0mexists\u001b[0m\u001b[0;34m(\u001b[0m\u001b[0mhead\u001b[0m\u001b[0;34m)\u001b[0m\u001b[0;34m:\u001b[0m\u001b[0;34m\u001b[0m\u001b[0m\n\u001b[1;32m    209\u001b[0m         \u001b[0;32mtry\u001b[0m\u001b[0;34m:\u001b[0m\u001b[0;34m\u001b[0m\u001b[0m\n\u001b[0;32m--> 210\u001b[0;31m             \u001b[0mmakedirs\u001b[0m\u001b[0;34m(\u001b[0m\u001b[0mhead\u001b[0m\u001b[0;34m,\u001b[0m \u001b[0mmode\u001b[0m\u001b[0;34m,\u001b[0m \u001b[0mexist_ok\u001b[0m\u001b[0;34m)\u001b[0m\u001b[0;34m\u001b[0m\u001b[0m\n\u001b[0m\u001b[1;32m    211\u001b[0m         \u001b[0;32mexcept\u001b[0m \u001b[0mFileExistsError\u001b[0m\u001b[0;34m:\u001b[0m\u001b[0;34m\u001b[0m\u001b[0m\n\u001b[1;32m    212\u001b[0m             \u001b[0;31m# Defeats race condition when another thread created the path\u001b[0m\u001b[0;34m\u001b[0m\u001b[0;34m\u001b[0m\u001b[0m\n",
      "\u001b[0;32m/usr/local/Cellar/python3/3.6.4_2/Frameworks/Python.framework/Versions/3.6/lib/python3.6/os.py\u001b[0m in \u001b[0;36mmakedirs\u001b[0;34m(name, mode, exist_ok)\u001b[0m\n\u001b[1;32m    208\u001b[0m     \u001b[0;32mif\u001b[0m \u001b[0mhead\u001b[0m \u001b[0;32mand\u001b[0m \u001b[0mtail\u001b[0m \u001b[0;32mand\u001b[0m \u001b[0;32mnot\u001b[0m \u001b[0mpath\u001b[0m\u001b[0;34m.\u001b[0m\u001b[0mexists\u001b[0m\u001b[0;34m(\u001b[0m\u001b[0mhead\u001b[0m\u001b[0;34m)\u001b[0m\u001b[0;34m:\u001b[0m\u001b[0;34m\u001b[0m\u001b[0m\n\u001b[1;32m    209\u001b[0m         \u001b[0;32mtry\u001b[0m\u001b[0;34m:\u001b[0m\u001b[0;34m\u001b[0m\u001b[0m\n\u001b[0;32m--> 210\u001b[0;31m             \u001b[0mmakedirs\u001b[0m\u001b[0;34m(\u001b[0m\u001b[0mhead\u001b[0m\u001b[0;34m,\u001b[0m \u001b[0mmode\u001b[0m\u001b[0;34m,\u001b[0m \u001b[0mexist_ok\u001b[0m\u001b[0;34m)\u001b[0m\u001b[0;34m\u001b[0m\u001b[0m\n\u001b[0m\u001b[1;32m    211\u001b[0m         \u001b[0;32mexcept\u001b[0m \u001b[0mFileExistsError\u001b[0m\u001b[0;34m:\u001b[0m\u001b[0;34m\u001b[0m\u001b[0m\n\u001b[1;32m    212\u001b[0m             \u001b[0;31m# Defeats race condition when another thread created the path\u001b[0m\u001b[0;34m\u001b[0m\u001b[0;34m\u001b[0m\u001b[0m\n",
      "\u001b[0;32m/usr/local/Cellar/python3/3.6.4_2/Frameworks/Python.framework/Versions/3.6/lib/python3.6/os.py\u001b[0m in \u001b[0;36mmakedirs\u001b[0;34m(name, mode, exist_ok)\u001b[0m\n\u001b[1;32m    208\u001b[0m     \u001b[0;32mif\u001b[0m \u001b[0mhead\u001b[0m \u001b[0;32mand\u001b[0m \u001b[0mtail\u001b[0m \u001b[0;32mand\u001b[0m \u001b[0;32mnot\u001b[0m \u001b[0mpath\u001b[0m\u001b[0;34m.\u001b[0m\u001b[0mexists\u001b[0m\u001b[0;34m(\u001b[0m\u001b[0mhead\u001b[0m\u001b[0;34m)\u001b[0m\u001b[0;34m:\u001b[0m\u001b[0;34m\u001b[0m\u001b[0m\n\u001b[1;32m    209\u001b[0m         \u001b[0;32mtry\u001b[0m\u001b[0;34m:\u001b[0m\u001b[0;34m\u001b[0m\u001b[0m\n\u001b[0;32m--> 210\u001b[0;31m             \u001b[0mmakedirs\u001b[0m\u001b[0;34m(\u001b[0m\u001b[0mhead\u001b[0m\u001b[0;34m,\u001b[0m \u001b[0mmode\u001b[0m\u001b[0;34m,\u001b[0m \u001b[0mexist_ok\u001b[0m\u001b[0;34m)\u001b[0m\u001b[0;34m\u001b[0m\u001b[0m\n\u001b[0m\u001b[1;32m    211\u001b[0m         \u001b[0;32mexcept\u001b[0m \u001b[0mFileExistsError\u001b[0m\u001b[0;34m:\u001b[0m\u001b[0;34m\u001b[0m\u001b[0m\n\u001b[1;32m    212\u001b[0m             \u001b[0;31m# Defeats race condition when another thread created the path\u001b[0m\u001b[0;34m\u001b[0m\u001b[0;34m\u001b[0m\u001b[0m\n",
      "\u001b[0;32m/usr/local/Cellar/python3/3.6.4_2/Frameworks/Python.framework/Versions/3.6/lib/python3.6/os.py\u001b[0m in \u001b[0;36mmakedirs\u001b[0;34m(name, mode, exist_ok)\u001b[0m\n\u001b[1;32m    218\u001b[0m             \u001b[0;32mreturn\u001b[0m\u001b[0;34m\u001b[0m\u001b[0m\n\u001b[1;32m    219\u001b[0m     \u001b[0;32mtry\u001b[0m\u001b[0;34m:\u001b[0m\u001b[0;34m\u001b[0m\u001b[0m\n\u001b[0;32m--> 220\u001b[0;31m         \u001b[0mmkdir\u001b[0m\u001b[0;34m(\u001b[0m\u001b[0mname\u001b[0m\u001b[0;34m,\u001b[0m \u001b[0mmode\u001b[0m\u001b[0;34m)\u001b[0m\u001b[0;34m\u001b[0m\u001b[0m\n\u001b[0m\u001b[1;32m    221\u001b[0m     \u001b[0;32mexcept\u001b[0m \u001b[0mOSError\u001b[0m\u001b[0;34m:\u001b[0m\u001b[0;34m\u001b[0m\u001b[0m\n\u001b[1;32m    222\u001b[0m         \u001b[0;31m# Cannot rely on checking for EEXIST, since the operating system\u001b[0m\u001b[0;34m\u001b[0m\u001b[0;34m\u001b[0m\u001b[0m\n",
      "\u001b[0;31mPermissionError\u001b[0m: [Errno 13] Permission denied: '/Users/work'"
     ]
    }
   ],
   "source": [
    "from __future__ import division\n",
    "\n",
    "import codecs\n",
    "import csv\n",
    "import os\n",
    "import time\n",
    "from os import listdir\n",
    "from os.path import isfile, join\n",
    "import re\n",
    "import io\n",
    "\n",
    "\n",
    "# Directory and file names:\n",
    "\n",
    "# os.getcwd() replaces __file__ in Jupyter notebooks\n",
    "dir_TM_in = os.path.abspath(os.path.join(os.path.dirname(os.getcwd()),\"../\",\"../\",\"work\",\"hartlib\", \"OneDrive\", \"semantic_change\"))\n",
    "dir_TM_diff_results = os.path.abspath(os.path.join(os.path.dirname(os.getcwd()),\"../\",\"../\",\"work\",\"hartlib\", \"OneDrive\", \"semantic_change\",\"results\"))\n",
    "\n",
    "if not os.path.exists(dir_TM_diff_results):\n",
    "    os.makedirs(dir_TM_diff_results)\n",
    "\n",
    "# these are the topics we are looking into\n",
    "topic_treshold = [0, 1, 2, 4, 5, 6, 7, 8, 12, 15, 17, 19, 21, 22, 26, 29, 30, 32, 34, 36, 37, 39]\n",
    "\n",
    "# this is the number of top words we're taking: 10\n",
    "num_words = 10\n",
    "\n",
    "# these are the topic labels, again, hardcoded for now\n",
    "\n",
    "topic_labels = [\"newsletters about politics\", \n",
    "               \"friendship\", \n",
    "               \"religion: spirituality/faith\", \n",
    "               \"religion: church life\", \n",
    "               \"religious war/peace\", \n",
    "               \"Underspecified_actions\",\n",
    "               \"letter writing/copying\", \n",
    "               \"trade of agricultural produce/plantations\",\n",
    "               \"advancement of learning for the public good\",\n",
    "               \"spirituality/dreams\",\n",
    "               \"making cider/horticulture\",\n",
    "               \"alchemy\",\n",
    "               \"visiting/travelling\",\n",
    "               \"poverty/charity(?)\",\n",
    "               \"(writing) books/manuscripts\",\n",
    "               \"personal relationships\",\n",
    "               \"medicine: medicinal herbs\",\n",
    "               \"education, learning languages\",\n",
    "               \"medicine: (iatro) chemical experiments\",\n",
    "               \"Office of Address (public office for jobs/knowledge)\",\n",
    "               \"army/military/troop movement\",\n",
    "               \"making an engine (water/manure)/technology/inventions\",\n",
    "               \"Underspecified_colonies/settlers\",\n",
    "               \"fear and hope\",\n",
    "               \"plans for innovations in fishing presented to Parliament\",\n",
    "               \"garbage topic\",\n",
    "               \"war/peace between nations\",\n",
    "               \"agriculture\",\n",
    "               \"religion: morality/sin\",\n",
    "               \"knowledge\",\n",
    "               \"letter writing/sending\",\n",
    "               \"law\",\n",
    "               \"religion: fear and hope\",\n",
    "               \"horticulture/husbandry\",\n",
    "               \"academic life/publishing of academic books\",\n",
    "               \"natural philosophy (physics)\",\n",
    "               \"money/selling and buying\",\n",
    "               \"religion: church/charity\",\n",
    "               \"religion: theology/doctrine\",\n",
    "               \"writing/editing (more about books than letters)\"]\n"
   ]
  },
  {
   "cell_type": "code",
   "execution_count": 2,
   "metadata": {},
   "outputs": [
    {
     "ename": "NameError",
     "evalue": "name 'dir_TM_in' is not defined",
     "output_type": "error",
     "traceback": [
      "\u001b[0;31m---------------------------------------------------------------------------\u001b[0m",
      "\u001b[0;31mNameError\u001b[0m                                 Traceback (most recent call last)",
      "\u001b[0;32m<ipython-input-2-940e34bab9dc>\u001b[0m in \u001b[0;36m<module>\u001b[0;34m()\u001b[0m\n\u001b[0;32m----> 1\u001b[0;31m \u001b[0mprint\u001b[0m\u001b[0;34m(\u001b[0m\u001b[0mdir_TM_in\u001b[0m\u001b[0;34m)\u001b[0m\u001b[0;34m\u001b[0m\u001b[0m\n\u001b[0m",
      "\u001b[0;31mNameError\u001b[0m: name 'dir_TM_in' is not defined"
     ]
    }
   ],
   "source": [
    "print(dir_TM_in)"
   ]
  },
  {
   "cell_type": "code",
   "execution_count": null,
   "metadata": {},
   "outputs": [],
   "source": [
    "#print(dir_TM_in)\n",
    "\n",
    "# i'm hardcoding the number of slices for now\n",
    "\n",
    "for topic in topic_treshold:\n",
    "    csv_slice0 = open(dir_TM_in+\"/topic \"+str(topic)+\"/slice 0/output_csv/Topics_Words.csv\")\n",
    "    csv_slice1 = open(dir_TM_in+\"/topic \"+str(topic)+\"/slice 1/output_csv/Topics_Words.csv\")\n",
    "\n",
    "    liste_0 = list()\n",
    "\n",
    "    for line in csv_slice0.readlines()[1:]:\n",
    "        line = line.split(\";\",1)[1]\n",
    "        line = line.split()\n",
    "        for i in range(0,num_words):\n",
    "            liste_0.append(line[i])\n",
    "    liste_0 = sorted(liste_0)\n",
    "            \n",
    "        \n",
    "    liste_1 = list()\n",
    "\n",
    "    for line in csv_slice1.readlines()[1:]:\n",
    "        line = line.split(\";\",1)[1]\n",
    "        line = line.split()\n",
    "        for i in range(0,num_words):\n",
    "            liste_1.append(line[i])\n",
    "    liste_1 = sorted(liste_1)\n",
    "\n",
    "\n",
    "    diff_0 = list(set(liste_0) - set(liste_1)) # this only shows what is in 0 but not in 1\n",
    "    diff_1 = list(set(liste_1) - set(liste_0)) # this only shows what is in 1 but not in 0\n",
    "    \n",
    "    \n",
    "    if len(diff_0) != 0: # let's not create empty files\n",
    "        results = open(dir_TM_diff_results+\"/topic_\"+str(topic)+\".txt\",\"w\")\n",
    "        \n",
    "        results.write(\"slice_0:\\n\")\n",
    "        for item in diff_0:\n",
    "            results.write(item+\"\\n\")\n",
    "\n",
    "        results.write(\"slice_1:\\n\")\n",
    "        for item in diff_1:\n",
    "            results.write(item+\"\\n\")\n",
    "    \n",
    "    \n",
    "    print(\"TOPIC\",str(topic),topic_labels[topic],\": \")\n",
    "    print(liste_0,\"\\n\",liste_1,\"\\n\")\n",
    "    print(\"Out of 10 words, the difference for topic\",str(topic),\" is:\",len(diff),\"\\n\",diff_0,\" and \",diff_1,\"\\n\\n\")"
   ]
  },
  {
   "cell_type": "code",
   "execution_count": 51,
   "metadata": {},
   "outputs": [],
   "source": []
  },
  {
   "cell_type": "code",
   "execution_count": 1,
   "metadata": {},
   "outputs": [],
   "source": []
  },
  {
   "cell_type": "code",
   "execution_count": null,
   "metadata": {},
   "outputs": [],
   "source": []
  },
  {
   "cell_type": "code",
   "execution_count": 36,
   "metadata": {},
   "outputs": [],
   "source": [
    "a = [5, 3, 1]\n",
    "b = [2, 5, 3]"
   ]
  },
  {
   "cell_type": "code",
   "execution_count": 37,
   "metadata": {},
   "outputs": [
    {
     "name": "stdout",
     "output_type": "stream",
     "text": [
      "[1]\n"
     ]
    }
   ],
   "source": [
    "print(list(set(a) - set(b)))"
   ]
  },
  {
   "cell_type": "code",
   "execution_count": null,
   "metadata": {},
   "outputs": [],
   "source": []
  },
  {
   "cell_type": "code",
   "execution_count": null,
   "metadata": {},
   "outputs": [],
   "source": []
  },
  {
   "cell_type": "markdown",
   "metadata": {},
   "source": [
    "# todo\n",
    "\n",
    "- [x] take top 10 words of each topic for each slice \n",
    "- [ ] produce these lists as files (easier to send to people) (+freq, cfr below)\n",
    "- [ ] create 22 files with the differences between slice 0 and slice 1\n",
    "--> read and interpret those\n",
    "\n",
    "\n",
    "for every topic, we create:\n",
    "-- corpus slice 1 (all words of all files)\n",
    "-- corpus slice 2 (all words of all files)\n",
    "\n",
    "\n",
    "for each of the words in differences, check the absolute and relative frequency in the two corpora:\n",
    "-- how many times word w appears in corpus 1 / the number of tokens in corpus 1\n",
    "-- how many times word w appears in corpus 2 / the number of tokens in corpus 2\n",
    "\n",
    "--> add frequencies to the file, cfr up\n",
    "\n"
   ]
  },
  {
   "cell_type": "code",
   "execution_count": null,
   "metadata": {},
   "outputs": [],
   "source": []
  }
 ],
 "metadata": {
  "kernelspec": {
   "display_name": "Python 3",
   "language": "python",
   "name": "python3"
  },
  "language_info": {
   "codemirror_mode": {
    "name": "ipython",
    "version": 3
   },
   "file_extension": ".py",
   "mimetype": "text/x-python",
   "name": "python",
   "nbconvert_exporter": "python",
   "pygments_lexer": "ipython3",
   "version": "3.6.4"
  }
 },
 "nbformat": 4,
 "nbformat_minor": 2
}
