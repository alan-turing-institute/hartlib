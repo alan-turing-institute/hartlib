{
 "cells": [
  {
   "cell_type": "code",
   "execution_count": 1,
   "metadata": {},
   "outputs": [],
   "source": [
    "liste_1 = \"word make letter time write give great find good character hand friend receive send place page desire part art line hope concern fit hear put add kind god work occasion book pray answer present house end light note london year teach table suppose call england day public lord english memory tree return show sound love person draw bear true order understand begin full short large discourse design proper business promise read small land follow glass world honour rest people college soil experiment remember grow margin devise leave variety learn language mrs matter respect child address general number notice manner easy\""
   ]
  },
  {
   "cell_type": "code",
   "execution_count": 2,
   "metadata": {},
   "outputs": [],
   "source": [
    "liste_1 = liste_1.split()"
   ]
  },
  {
   "cell_type": "code",
   "execution_count": 3,
   "metadata": {},
   "outputs": [
    {
     "name": "stdout",
     "output_type": "stream",
     "text": [
      "['word', 'make', 'letter', 'time', 'write', 'give', 'great', 'find', 'good', 'character', 'hand', 'friend', 'receive', 'send', 'place', 'page', 'desire', 'part', 'art', 'line', 'hope', 'concern', 'fit', 'hear', 'put', 'add', 'kind', 'god', 'work', 'occasion', 'book', 'pray', 'answer', 'present', 'house', 'end', 'light', 'note', 'london', 'year', 'teach', 'table', 'suppose', 'call', 'england', 'day', 'public', 'lord', 'english', 'memory', 'tree', 'return', 'show', 'sound', 'love', 'person', 'draw', 'bear', 'true', 'order', 'understand', 'begin', 'full', 'short', 'large', 'discourse', 'design', 'proper', 'business', 'promise', 'read', 'small', 'land', 'follow', 'glass', 'world', 'honour', 'rest', 'people', 'college', 'soil', 'experiment', 'remember', 'grow', 'margin', 'devise', 'leave', 'variety', 'learn', 'language', 'mrs', 'matter', 'respect', 'child', 'address', 'general', 'number', 'notice', 'manner', 'easy']\n"
     ]
    }
   ],
   "source": [
    "print(liste_1)"
   ]
  },
  {
   "cell_type": "code",
   "execution_count": 4,
   "metadata": {},
   "outputs": [],
   "source": [
    "liste_2 = \"make write word time letter god good great find give friend send place textmiss lord hand work desire receive matter leave pray read year print book copy concern present part speak hear hope bring character public illeg spirit kind mrs set rest study truth week fit house scripture alter thought day put discourse accord miss promise call delete order end answer love line world respect knowledge add reason judgement occasion large full parliament live author christ suppose thereof church lay ground business mind worthy endeavour small paper general honour grace show fail writing number serve king begin effect instrument england\""
   ]
  },
  {
   "cell_type": "code",
   "execution_count": 5,
   "metadata": {},
   "outputs": [],
   "source": [
    "liste_2 = liste_2.split()"
   ]
  },
  {
   "cell_type": "code",
   "execution_count": 6,
   "metadata": {},
   "outputs": [
    {
     "name": "stdout",
     "output_type": "stream",
     "text": [
      "['make', 'write', 'word', 'time', 'letter', 'god', 'good', 'great', 'find', 'give', 'friend', 'send', 'place', 'textmiss', 'lord', 'hand', 'work', 'desire', 'receive', 'matter', 'leave', 'pray', 'read', 'year', 'print', 'book', 'copy', 'concern', 'present', 'part', 'speak', 'hear', 'hope', 'bring', 'character', 'public', 'illeg', 'spirit', 'kind', 'mrs', 'set', 'rest', 'study', 'truth', 'week', 'fit', 'house', 'scripture', 'alter', 'thought', 'day', 'put', 'discourse', 'accord', 'miss', 'promise', 'call', 'delete', 'order', 'end', 'answer', 'love', 'line', 'world', 'respect', 'knowledge', 'add', 'reason', 'judgement', 'occasion', 'large', 'full', 'parliament', 'live', 'author', 'christ', 'suppose', 'thereof', 'church', 'lay', 'ground', 'business', 'mind', 'worthy', 'endeavour', 'small', 'paper', 'general', 'honour', 'grace', 'show', 'fail', 'writing', 'number', 'serve', 'king', 'begin', 'effect', 'instrument', 'england']\n"
     ]
    }
   ],
   "source": [
    "print(liste_2)"
   ]
  },
  {
   "cell_type": "code",
   "execution_count": 11,
   "metadata": {},
   "outputs": [
    {
     "name": "stdout",
     "output_type": "stream",
     "text": [
      "Out of 100 words, the difference is: 39 \n",
      " ['manner', 'design', 'teach', 'english', 'follow', 'light', 'language', 'child', 'draw', 'bear', 'proper', 'true', 'easy', 'variety', 'short', 'sound', 'learn', 'table', 'memory', 'grow', 'address', 'page', 'margin', 'return', 'soil', 'people', 'land', 'understand', 'person', 'remember', 'art', 'tree', 'devise', 'notice', 'note', 'college', 'glass', 'experiment', 'london']\n"
     ]
    }
   ],
   "source": [
    "# differences: \n",
    "\n",
    "diff = list(set(liste_1) - set(liste_2))\n",
    "print(\"Out of 100 words, the difference is:\",len(diff),\"\\n\",diff)"
   ]
  },
  {
   "cell_type": "code",
   "execution_count": null,
   "metadata": {},
   "outputs": [],
   "source": []
  }
 ],
 "metadata": {
  "kernelspec": {
   "display_name": "Python 3",
   "language": "python",
   "name": "python3"
  },
  "language_info": {
   "codemirror_mode": {
    "name": "ipython",
    "version": 3
   },
   "file_extension": ".py",
   "mimetype": "text/x-python",
   "name": "python",
   "nbconvert_exporter": "python",
   "pygments_lexer": "ipython3",
   "version": "3.5.2"
  }
 },
 "nbformat": 4,
 "nbformat_minor": 2
}
