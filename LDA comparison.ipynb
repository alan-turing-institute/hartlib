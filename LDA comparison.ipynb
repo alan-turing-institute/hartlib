{
 "cells": [
  {
   "cell_type": "code",
   "execution_count": null,
   "metadata": {},
   "outputs": [],
   "source": [
    "from __future__ import division\n",
    "\n",
    "import codecs\n",
    "import csv\n",
    "import os\n",
    "import time\n",
    "from os import listdir\n",
    "from os.path import isfile, join\n",
    "import re\n",
    "import io\n",
    "\n",
    "\n",
    "# Directory and file names:\n",
    "\n",
    "# os.getcwd() replaces __file__ in Jupyter notebooks\n",
    "dir_TM_in = os.path.abspath(os.path.join(os.path.dirname(os.getcwd()),\"../\",\"../\",\"work\",\"hartlib\", \"OneDrive\", \"semantic_change\"))\n",
    "dir_TM_diff_results = os.path.abspath(os.path.join(os.path.dirname(os.getcwd()),\"../\",\"../\",\"work\",\"hartlib\", \"OneDrive\", \"semantic_change\",\"results\"))\n",
    "\n",
    "if not os.path.exists(dir_TM_diff_results):\n",
    "    os.makedirs(dir_TM_diff_results)\n",
    "\n",
    "# these are the topics we are looking into\n",
    "topic_treshold = [0, 1, 2, 4, 5, 6, 7, 8, 12, 15, 17, 19, 21, 22, 26, 29, 30, 32, 34, 36, 37, 39]\n",
    "\n",
    "# this is the number of top words we're taking: 10\n",
    "num_words = 10\n",
    "\n",
    "# these are the topic labels, again, hardcoded for now\n",
    "\n",
    "topic_labels = [\"newsletters about politics\", \n",
    "               \"friendship\", \n",
    "               \"religion: spirituality/faith\", \n",
    "               \"religion: church life\", \n",
    "               \"religious war/peace\", \n",
    "               \"Underspecified_actions\",\n",
    "               \"letter writing/copying\", \n",
    "               \"trade of agricultural produce/plantations\",\n",
    "               \"advancement of learning for the public good\",\n",
    "               \"spirituality/dreams\",\n",
    "               \"making cider/horticulture\",\n",
    "               \"alchemy\",\n",
    "               \"visiting/travelling\",\n",
    "               \"poverty/charity(?)\",\n",
    "               \"(writing) books/manuscripts\",\n",
    "               \"personal relationships\",\n",
    "               \"medicine: medicinal herbs\",\n",
    "               \"education, learning languages\",\n",
    "               \"medicine: (iatro) chemical experiments\",\n",
    "               \"Office of Address (public office for jobs/knowledge)\",\n",
    "               \"army/military/troop movement\",\n",
    "               \"making an engine (water/manure)/technology/inventions\",\n",
    "               \"Underspecified_colonies/settlers\",\n",
    "               \"fear and hope\",\n",
    "               \"plans for innovations in fishing presented to Parliament\",\n",
    "               \"garbage topic\",\n",
    "               \"war/peace between nations\",\n",
    "               \"agriculture\",\n",
    "               \"religion: morality/sin\",\n",
    "               \"knowledge\",\n",
    "               \"letter writing/sending\",\n",
    "               \"law\",\n",
    "               \"religion: fear and hope\",\n",
    "               \"horticulture/husbandry\",\n",
    "               \"academic life/publishing of academic books\",\n",
    "               \"natural philosophy (physics)\",\n",
    "               \"money/selling and buying\",\n",
    "               \"religion: church/charity\",\n",
    "               \"religion: theology/doctrine\",\n",
    "               \"writing/editing (more about books than letters)\"]\n"
   ]
  },
  {
   "cell_type": "code",
   "execution_count": 6,
   "metadata": {},
   "outputs": [
    {
     "name": "stdout",
     "output_type": "stream",
     "text": [
      "/home/sigmund/work/hartlib/OneDrive/semantic_change\n"
     ]
    }
   ],
   "source": [
    "print(dir_TM_in)"
   ]
  },
  {
   "cell_type": "code",
   "execution_count": null,
   "metadata": {},
   "outputs": [],
   "source": [
    "#print(dir_TM_in)\n",
    "\n",
    "# i'm hardcoding the number of slices for now\n",
    "\n",
    "for topic in topic_treshold:\n",
    "    csv_slice0 = open(dir_TM_in+\"/topic \"+str(topic)+\"/slice 0/output_csv/Topics_Words.csv\")\n",
    "    csv_slice1 = open(dir_TM_in+\"/topic \"+str(topic)+\"/slice 1/output_csv/Topics_Words.csv\")\n",
    "\n",
    "    liste_0 = list()\n",
    "\n",
    "    for line in csv_slice0.readlines()[1:]:\n",
    "        line = line.split(\";\",1)[1]\n",
    "        line = line.split()\n",
    "        for i in range(0,num_words):\n",
    "            liste_0.append(line[i])\n",
    "    liste_0 = sorted(liste_0)\n",
    "            \n",
    "        \n",
    "    liste_1 = list()\n",
    "\n",
    "    for line in csv_slice1.readlines()[1:]:\n",
    "        line = line.split(\";\",1)[1]\n",
    "        line = line.split()\n",
    "        for i in range(0,num_words):\n",
    "            liste_1.append(line[i])\n",
    "    liste_1 = sorted(liste_1)\n",
    "\n",
    "\n",
    "    diff = list(set(liste_0) - set(liste_1)) # this only shows what is in 0 but not in 1\n",
    "    \n",
    "    if len(diff) != 0: # let's not create empty files\n",
    "        results = open(dir_TM_diff_results+\"/topic_\"+str(topic)+\".txt\",\"w\")\n",
    "    \n",
    "        for item in diff:\n",
    "            results.write(item+\"\\n\")\n",
    "    \n",
    "    \n",
    "    print(\"TOPIC\",str(topic),topic_labels[topic],\": \")\n",
    "    print(liste_0,\"\\n\",liste_1,\"\\n\")\n",
    "    print(\"Out of 10 words, the difference for topic\",str(topic),\" is:\",len(diff),\"\\n\",diff,\"\\n\\n\")"
   ]
  },
  {
   "cell_type": "code",
   "execution_count": 51,
   "metadata": {},
   "outputs": [],
   "source": []
  },
  {
   "cell_type": "code",
   "execution_count": null,
   "metadata": {},
   "outputs": [],
   "source": []
  },
  {
   "cell_type": "code",
   "execution_count": null,
   "metadata": {},
   "outputs": [],
   "source": []
  },
  {
   "cell_type": "code",
   "execution_count": 36,
   "metadata": {},
   "outputs": [],
   "source": [
    "a = [5, 3, 1]\n",
    "b = [2, 5, 3]"
   ]
  },
  {
   "cell_type": "code",
   "execution_count": 37,
   "metadata": {},
   "outputs": [
    {
     "name": "stdout",
     "output_type": "stream",
     "text": [
      "[1]\n"
     ]
    }
   ],
   "source": [
    "print(list(set(a) - set(b)))"
   ]
  },
  {
   "cell_type": "code",
   "execution_count": null,
   "metadata": {},
   "outputs": [],
   "source": []
  },
  {
   "cell_type": "code",
   "execution_count": null,
   "metadata": {},
   "outputs": [],
   "source": []
  },
  {
   "cell_type": "markdown",
   "metadata": {},
   "source": [
    "# todo\n",
    "\n",
    "- [x] take top 10 words of each topic for each slice \n",
    "- [ ] produce these lists as files (easier to send to people) (+freq, cfr below)\n",
    "- [ ] create 22 files with the differences between slice 0 and slice 1\n",
    "--> read and interpret those\n",
    "\n",
    "\n",
    "for every topic, we create:\n",
    "-- corpus slice 1 (all words of all files)\n",
    "-- corpus slice 2 (all words of all files)\n",
    "\n",
    "\n",
    "for each of the words in differences, check the absolute and relative frequency in the two corpora:\n",
    "-- how many times word w appears in corpus 1 / the number of tokens in corpus 1\n",
    "-- how many times word w appears in corpus 2 / the number of tokens in corpus 2\n",
    "\n",
    "--> add frequencies to the file, cfr up\n",
    "\n"
   ]
  },
  {
   "cell_type": "code",
   "execution_count": null,
   "metadata": {},
   "outputs": [],
   "source": []
  }
 ],
 "metadata": {
  "kernelspec": {
   "display_name": "Python 3",
   "language": "python",
   "name": "python3"
  },
  "language_info": {
   "codemirror_mode": {
    "name": "ipython",
    "version": 3
   },
   "file_extension": ".py",
   "mimetype": "text/x-python",
   "name": "python",
   "nbconvert_exporter": "python",
   "pygments_lexer": "ipython3",
   "version": "3.5.2"
  }
 },
 "nbformat": 4,
 "nbformat_minor": 2
}
